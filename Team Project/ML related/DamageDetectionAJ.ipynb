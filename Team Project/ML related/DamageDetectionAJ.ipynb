{
  "nbformat": 4,
  "nbformat_minor": 0,
  "metadata": {
    "colab": {
      "name": "DamageDetection.ipynb",
      "provenance": [],
      "collapsed_sections": []
    },
    "kernelspec": {
      "name": "python3",
      "display_name": "Python 3"
    }
  },
  "cells": [
    {
      "cell_type": "code",
      "metadata": {
        "colab": {
          "base_uri": "https://localhost:8080/",
          "height": 402
        },
        "id": "PNUNJ4zIMzI3",
        "outputId": "089fbada-04a9-487a-e65e-28be2011c1ad"
      },
      "source": [
        "import pandas as pd \r\n",
        "from sklearn.svm import SVC \r\n",
        "#for read our data file having extension of .csv\r\n",
        "main_file = pd.read_csv('./data.csv')\r\n",
        "main_file"
      ],
      "execution_count": 135,
      "outputs": [
        {
          "output_type": "execute_result",
          "data": {
            "text/html": [
              "<div>\n",
              "<style scoped>\n",
              "    .dataframe tbody tr th:only-of-type {\n",
              "        vertical-align: middle;\n",
              "    }\n",
              "\n",
              "    .dataframe tbody tr th {\n",
              "        vertical-align: top;\n",
              "    }\n",
              "\n",
              "    .dataframe thead th {\n",
              "        text-align: right;\n",
              "    }\n",
              "</style>\n",
              "<table border=\"1\" class=\"dataframe\">\n",
              "  <thead>\n",
              "    <tr style=\"text-align: right;\">\n",
              "      <th></th>\n",
              "      <th>Test No.</th>\n",
              "      <th>point1</th>\n",
              "      <th>point2</th>\n",
              "      <th>point3</th>\n",
              "      <th>point4</th>\n",
              "      <th>point5</th>\n",
              "      <th>point6</th>\n",
              "      <th>point7</th>\n",
              "      <th>point8</th>\n",
              "      <th>Status</th>\n",
              "    </tr>\n",
              "  </thead>\n",
              "  <tbody>\n",
              "    <tr>\n",
              "      <th>0</th>\n",
              "      <td>1</td>\n",
              "      <td>0.200</td>\n",
              "      <td>0.200</td>\n",
              "      <td>0.200</td>\n",
              "      <td>0.202</td>\n",
              "      <td>0.203</td>\n",
              "      <td>0.200</td>\n",
              "      <td>0.200</td>\n",
              "      <td>0.202</td>\n",
              "      <td>0</td>\n",
              "    </tr>\n",
              "    <tr>\n",
              "      <th>1</th>\n",
              "      <td>2</td>\n",
              "      <td>0.199</td>\n",
              "      <td>0.198</td>\n",
              "      <td>0.192</td>\n",
              "      <td>0.202</td>\n",
              "      <td>0.197</td>\n",
              "      <td>0.200</td>\n",
              "      <td>0.201</td>\n",
              "      <td>0.193</td>\n",
              "      <td>0</td>\n",
              "    </tr>\n",
              "    <tr>\n",
              "      <th>2</th>\n",
              "      <td>3</td>\n",
              "      <td>0.200</td>\n",
              "      <td>0.198</td>\n",
              "      <td>0.193</td>\n",
              "      <td>0.183</td>\n",
              "      <td>0.183</td>\n",
              "      <td>0.181</td>\n",
              "      <td>0.184</td>\n",
              "      <td>0.182</td>\n",
              "      <td>1</td>\n",
              "    </tr>\n",
              "    <tr>\n",
              "      <th>3</th>\n",
              "      <td>4</td>\n",
              "      <td>0.200</td>\n",
              "      <td>0.192</td>\n",
              "      <td>0.193</td>\n",
              "      <td>0.202</td>\n",
              "      <td>0.182</td>\n",
              "      <td>0.183</td>\n",
              "      <td>0.183</td>\n",
              "      <td>0.185</td>\n",
              "      <td>1</td>\n",
              "    </tr>\n",
              "    <tr>\n",
              "      <th>4</th>\n",
              "      <td>5</td>\n",
              "      <td>0.197</td>\n",
              "      <td>0.197</td>\n",
              "      <td>0.200</td>\n",
              "      <td>0.192</td>\n",
              "      <td>0.193</td>\n",
              "      <td>0.173</td>\n",
              "      <td>0.174</td>\n",
              "      <td>0.172</td>\n",
              "      <td>2</td>\n",
              "    </tr>\n",
              "    <tr>\n",
              "      <th>5</th>\n",
              "      <td>6</td>\n",
              "      <td>0.201</td>\n",
              "      <td>0.200</td>\n",
              "      <td>0.195</td>\n",
              "      <td>0.196</td>\n",
              "      <td>0.173</td>\n",
              "      <td>0.174</td>\n",
              "      <td>0.172</td>\n",
              "      <td>0.176</td>\n",
              "      <td>2</td>\n",
              "    </tr>\n",
              "    <tr>\n",
              "      <th>6</th>\n",
              "      <td>7</td>\n",
              "      <td>0.200</td>\n",
              "      <td>0.198</td>\n",
              "      <td>0.192</td>\n",
              "      <td>0.162</td>\n",
              "      <td>0.165</td>\n",
              "      <td>0.165</td>\n",
              "      <td>0.162</td>\n",
              "      <td>0.163</td>\n",
              "      <td>3</td>\n",
              "    </tr>\n",
              "    <tr>\n",
              "      <th>7</th>\n",
              "      <td>8</td>\n",
              "      <td>0.193</td>\n",
              "      <td>0.202</td>\n",
              "      <td>0.198</td>\n",
              "      <td>0.196</td>\n",
              "      <td>0.197</td>\n",
              "      <td>0.202</td>\n",
              "      <td>0.163</td>\n",
              "      <td>0.167</td>\n",
              "      <td>3</td>\n",
              "    </tr>\n",
              "    <tr>\n",
              "      <th>8</th>\n",
              "      <td>9</td>\n",
              "      <td>0.202</td>\n",
              "      <td>0.193</td>\n",
              "      <td>0.194</td>\n",
              "      <td>0.199</td>\n",
              "      <td>0.152</td>\n",
              "      <td>0.159</td>\n",
              "      <td>0.155</td>\n",
              "      <td>0.158</td>\n",
              "      <td>4</td>\n",
              "    </tr>\n",
              "    <tr>\n",
              "      <th>9</th>\n",
              "      <td>10</td>\n",
              "      <td>0.200</td>\n",
              "      <td>0.202</td>\n",
              "      <td>0.153</td>\n",
              "      <td>0.154</td>\n",
              "      <td>0.157</td>\n",
              "      <td>0.158</td>\n",
              "      <td>0.157</td>\n",
              "      <td>0.155</td>\n",
              "      <td>4</td>\n",
              "    </tr>\n",
              "    <tr>\n",
              "      <th>10</th>\n",
              "      <td>11</td>\n",
              "      <td>0.201</td>\n",
              "      <td>0.202</td>\n",
              "      <td>0.200</td>\n",
              "      <td>0.196</td>\n",
              "      <td>0.137</td>\n",
              "      <td>0.132</td>\n",
              "      <td>0.131</td>\n",
              "      <td>0.132</td>\n",
              "      <td>5</td>\n",
              "    </tr>\n",
              "    <tr>\n",
              "      <th>11</th>\n",
              "      <td>12</td>\n",
              "      <td>0.198</td>\n",
              "      <td>0.192</td>\n",
              "      <td>0.196</td>\n",
              "      <td>0.193</td>\n",
              "      <td>0.192</td>\n",
              "      <td>0.132</td>\n",
              "      <td>0.132</td>\n",
              "      <td>0.136</td>\n",
              "      <td>5</td>\n",
              "    </tr>\n",
              "  </tbody>\n",
              "</table>\n",
              "</div>"
            ],
            "text/plain": [
              "    Test No.  point1  point2  point3  ...  point6  point7  point8  Status\n",
              "0          1   0.200   0.200   0.200  ...   0.200   0.200   0.202       0\n",
              "1          2   0.199   0.198   0.192  ...   0.200   0.201   0.193       0\n",
              "2          3   0.200   0.198   0.193  ...   0.181   0.184   0.182       1\n",
              "3          4   0.200   0.192   0.193  ...   0.183   0.183   0.185       1\n",
              "4          5   0.197   0.197   0.200  ...   0.173   0.174   0.172       2\n",
              "5          6   0.201   0.200   0.195  ...   0.174   0.172   0.176       2\n",
              "6          7   0.200   0.198   0.192  ...   0.165   0.162   0.163       3\n",
              "7          8   0.193   0.202   0.198  ...   0.202   0.163   0.167       3\n",
              "8          9   0.202   0.193   0.194  ...   0.159   0.155   0.158       4\n",
              "9         10   0.200   0.202   0.153  ...   0.158   0.157   0.155       4\n",
              "10        11   0.201   0.202   0.200  ...   0.132   0.131   0.132       5\n",
              "11        12   0.198   0.192   0.196  ...   0.132   0.132   0.136       5\n",
              "\n",
              "[12 rows x 10 columns]"
            ]
          },
          "metadata": {
            "tags": []
          },
          "execution_count": 135
        }
      ]
    },
    {
      "cell_type": "code",
      "metadata": {
        "colab": {
          "base_uri": "https://localhost:8080/",
          "height": 402
        },
        "id": "arBnH15iUoHZ",
        "outputId": "f71e6aef-c33d-4091-eb09-5830adf8f8f4"
      },
      "source": [
        "#Separate columns that can be used for features extraction \r\n",
        "input_file = main_file.drop(['Status','Test No.'],axis='columns')\r\n",
        "input_file"
      ],
      "execution_count": 136,
      "outputs": [
        {
          "output_type": "execute_result",
          "data": {
            "text/html": [
              "<div>\n",
              "<style scoped>\n",
              "    .dataframe tbody tr th:only-of-type {\n",
              "        vertical-align: middle;\n",
              "    }\n",
              "\n",
              "    .dataframe tbody tr th {\n",
              "        vertical-align: top;\n",
              "    }\n",
              "\n",
              "    .dataframe thead th {\n",
              "        text-align: right;\n",
              "    }\n",
              "</style>\n",
              "<table border=\"1\" class=\"dataframe\">\n",
              "  <thead>\n",
              "    <tr style=\"text-align: right;\">\n",
              "      <th></th>\n",
              "      <th>point1</th>\n",
              "      <th>point2</th>\n",
              "      <th>point3</th>\n",
              "      <th>point4</th>\n",
              "      <th>point5</th>\n",
              "      <th>point6</th>\n",
              "      <th>point7</th>\n",
              "      <th>point8</th>\n",
              "    </tr>\n",
              "  </thead>\n",
              "  <tbody>\n",
              "    <tr>\n",
              "      <th>0</th>\n",
              "      <td>0.200</td>\n",
              "      <td>0.200</td>\n",
              "      <td>0.200</td>\n",
              "      <td>0.202</td>\n",
              "      <td>0.203</td>\n",
              "      <td>0.200</td>\n",
              "      <td>0.200</td>\n",
              "      <td>0.202</td>\n",
              "    </tr>\n",
              "    <tr>\n",
              "      <th>1</th>\n",
              "      <td>0.199</td>\n",
              "      <td>0.198</td>\n",
              "      <td>0.192</td>\n",
              "      <td>0.202</td>\n",
              "      <td>0.197</td>\n",
              "      <td>0.200</td>\n",
              "      <td>0.201</td>\n",
              "      <td>0.193</td>\n",
              "    </tr>\n",
              "    <tr>\n",
              "      <th>2</th>\n",
              "      <td>0.200</td>\n",
              "      <td>0.198</td>\n",
              "      <td>0.193</td>\n",
              "      <td>0.183</td>\n",
              "      <td>0.183</td>\n",
              "      <td>0.181</td>\n",
              "      <td>0.184</td>\n",
              "      <td>0.182</td>\n",
              "    </tr>\n",
              "    <tr>\n",
              "      <th>3</th>\n",
              "      <td>0.200</td>\n",
              "      <td>0.192</td>\n",
              "      <td>0.193</td>\n",
              "      <td>0.202</td>\n",
              "      <td>0.182</td>\n",
              "      <td>0.183</td>\n",
              "      <td>0.183</td>\n",
              "      <td>0.185</td>\n",
              "    </tr>\n",
              "    <tr>\n",
              "      <th>4</th>\n",
              "      <td>0.197</td>\n",
              "      <td>0.197</td>\n",
              "      <td>0.200</td>\n",
              "      <td>0.192</td>\n",
              "      <td>0.193</td>\n",
              "      <td>0.173</td>\n",
              "      <td>0.174</td>\n",
              "      <td>0.172</td>\n",
              "    </tr>\n",
              "    <tr>\n",
              "      <th>5</th>\n",
              "      <td>0.201</td>\n",
              "      <td>0.200</td>\n",
              "      <td>0.195</td>\n",
              "      <td>0.196</td>\n",
              "      <td>0.173</td>\n",
              "      <td>0.174</td>\n",
              "      <td>0.172</td>\n",
              "      <td>0.176</td>\n",
              "    </tr>\n",
              "    <tr>\n",
              "      <th>6</th>\n",
              "      <td>0.200</td>\n",
              "      <td>0.198</td>\n",
              "      <td>0.192</td>\n",
              "      <td>0.162</td>\n",
              "      <td>0.165</td>\n",
              "      <td>0.165</td>\n",
              "      <td>0.162</td>\n",
              "      <td>0.163</td>\n",
              "    </tr>\n",
              "    <tr>\n",
              "      <th>7</th>\n",
              "      <td>0.193</td>\n",
              "      <td>0.202</td>\n",
              "      <td>0.198</td>\n",
              "      <td>0.196</td>\n",
              "      <td>0.197</td>\n",
              "      <td>0.202</td>\n",
              "      <td>0.163</td>\n",
              "      <td>0.167</td>\n",
              "    </tr>\n",
              "    <tr>\n",
              "      <th>8</th>\n",
              "      <td>0.202</td>\n",
              "      <td>0.193</td>\n",
              "      <td>0.194</td>\n",
              "      <td>0.199</td>\n",
              "      <td>0.152</td>\n",
              "      <td>0.159</td>\n",
              "      <td>0.155</td>\n",
              "      <td>0.158</td>\n",
              "    </tr>\n",
              "    <tr>\n",
              "      <th>9</th>\n",
              "      <td>0.200</td>\n",
              "      <td>0.202</td>\n",
              "      <td>0.153</td>\n",
              "      <td>0.154</td>\n",
              "      <td>0.157</td>\n",
              "      <td>0.158</td>\n",
              "      <td>0.157</td>\n",
              "      <td>0.155</td>\n",
              "    </tr>\n",
              "    <tr>\n",
              "      <th>10</th>\n",
              "      <td>0.201</td>\n",
              "      <td>0.202</td>\n",
              "      <td>0.200</td>\n",
              "      <td>0.196</td>\n",
              "      <td>0.137</td>\n",
              "      <td>0.132</td>\n",
              "      <td>0.131</td>\n",
              "      <td>0.132</td>\n",
              "    </tr>\n",
              "    <tr>\n",
              "      <th>11</th>\n",
              "      <td>0.198</td>\n",
              "      <td>0.192</td>\n",
              "      <td>0.196</td>\n",
              "      <td>0.193</td>\n",
              "      <td>0.192</td>\n",
              "      <td>0.132</td>\n",
              "      <td>0.132</td>\n",
              "      <td>0.136</td>\n",
              "    </tr>\n",
              "  </tbody>\n",
              "</table>\n",
              "</div>"
            ],
            "text/plain": [
              "    point1  point2  point3  point4  point5  point6  point7  point8\n",
              "0    0.200   0.200   0.200   0.202   0.203   0.200   0.200   0.202\n",
              "1    0.199   0.198   0.192   0.202   0.197   0.200   0.201   0.193\n",
              "2    0.200   0.198   0.193   0.183   0.183   0.181   0.184   0.182\n",
              "3    0.200   0.192   0.193   0.202   0.182   0.183   0.183   0.185\n",
              "4    0.197   0.197   0.200   0.192   0.193   0.173   0.174   0.172\n",
              "5    0.201   0.200   0.195   0.196   0.173   0.174   0.172   0.176\n",
              "6    0.200   0.198   0.192   0.162   0.165   0.165   0.162   0.163\n",
              "7    0.193   0.202   0.198   0.196   0.197   0.202   0.163   0.167\n",
              "8    0.202   0.193   0.194   0.199   0.152   0.159   0.155   0.158\n",
              "9    0.200   0.202   0.153   0.154   0.157   0.158   0.157   0.155\n",
              "10   0.201   0.202   0.200   0.196   0.137   0.132   0.131   0.132\n",
              "11   0.198   0.192   0.196   0.193   0.192   0.132   0.132   0.136"
            ]
          },
          "metadata": {
            "tags": []
          },
          "execution_count": 136
        }
      ]
    },
    {
      "cell_type": "code",
      "metadata": {
        "colab": {
          "base_uri": "https://localhost:8080/",
          "height": 422
        },
        "id": "eyFLblfpOXD2",
        "outputId": "199c1f13-73c9-4c49-887d-5d04e280036d"
      },
      "source": [
        "#Features extraction\r\n",
        "input_file['Peak'] = [max(col['point1'],col['point2'],col['point3'],col['point4'],col['point5'],col['point6'],col['point7'],col['point8']) for index, col in input_file.iterrows()]\r\n",
        "input_file['Mean'] = (input_file.point1 + input_file.point2 + input_file.point3 + input_file.point4 + input_file.point5 + input_file.point6 + input_file.point7 + input_file.point8)/8\r\n",
        "input_file['Mean_Square'] = ( input_file.point1**2 + input_file.point2**2 + input_file.point3**2 + input_file.point4**2 + input_file.point5**2 + input_file.point6**2 + input_file.point7**2 + input_file.point8**2 )/8\r\n",
        "input_file['Root_Mean_Square'] = input_file['Mean_Square']**0.5\r\n",
        "input_file['Variance'] = ( (input_file.point1 - input_file.Mean)**2 + (input_file.point2 - input_file.Mean)**2 + (input_file.point3 - input_file.Mean)**2 + (input_file.point4 - input_file.Mean)**2 + (input_file.point5 - input_file.Mean)**2 + (input_file.point6 - input_file.Mean)**2 + (input_file.point7 - input_file.Mean)**2 + (input_file.point8 - input_file.Mean)**2 )/8\r\n",
        "input_file['Standard_Deviation'] = input_file['Variance']**0.5\r\n",
        "input_file['Skewness'] = ( (input_file.point1 - input_file.Mean)**3 + (input_file.point2 - input_file.Mean)**3 + (input_file.point3 - input_file.Mean)**3 + (input_file.point4 - input_file.Mean)**3 + (input_file.point5 - input_file.Mean)**3 + (input_file.point6 - input_file.Mean)**3 + (input_file.point7 - input_file.Mean)**3 + (input_file.point8 - input_file.Mean)**3 )/(8*((input_file.Standard_Deviation)**3))\r\n",
        "input_file['Kurtosis'] = ( (input_file.point1 - input_file.Mean)**4 + (input_file.point2 - input_file.Mean)**4 + (input_file.point3 - input_file.Mean)**4 + (input_file.point4 - input_file.Mean)**4 + (input_file.point5 - input_file.Mean)**4 + (input_file.point6 - input_file.Mean)**4 + (input_file.point7 - input_file.Mean)**4 + (input_file.point8 - input_file.Mean)**4 )/(8*((input_file.Standard_Deviation)**4))\r\n",
        "input_file['Crest_Factor'] = (input_file.Peak)/(input_file.Root_Mean_Square)\r\n",
        "input_file['K_Factor'] = (input_file.Peak)*(input_file.Root_Mean_Square)\r\n",
        "input_file"
      ],
      "execution_count": 137,
      "outputs": [
        {
          "output_type": "execute_result",
          "data": {
            "text/html": [
              "<div>\n",
              "<style scoped>\n",
              "    .dataframe tbody tr th:only-of-type {\n",
              "        vertical-align: middle;\n",
              "    }\n",
              "\n",
              "    .dataframe tbody tr th {\n",
              "        vertical-align: top;\n",
              "    }\n",
              "\n",
              "    .dataframe thead th {\n",
              "        text-align: right;\n",
              "    }\n",
              "</style>\n",
              "<table border=\"1\" class=\"dataframe\">\n",
              "  <thead>\n",
              "    <tr style=\"text-align: right;\">\n",
              "      <th></th>\n",
              "      <th>point1</th>\n",
              "      <th>point2</th>\n",
              "      <th>point3</th>\n",
              "      <th>point4</th>\n",
              "      <th>point5</th>\n",
              "      <th>point6</th>\n",
              "      <th>point7</th>\n",
              "      <th>point8</th>\n",
              "      <th>Peak</th>\n",
              "      <th>Mean</th>\n",
              "      <th>Mean_Square</th>\n",
              "      <th>Root_Mean_Square</th>\n",
              "      <th>Variance</th>\n",
              "      <th>Standard_Deviation</th>\n",
              "      <th>Skewness</th>\n",
              "      <th>Kurtosis</th>\n",
              "      <th>Crest_Factor</th>\n",
              "      <th>K_Factor</th>\n",
              "    </tr>\n",
              "  </thead>\n",
              "  <tbody>\n",
              "    <tr>\n",
              "      <th>0</th>\n",
              "      <td>0.200</td>\n",
              "      <td>0.200</td>\n",
              "      <td>0.200</td>\n",
              "      <td>0.202</td>\n",
              "      <td>0.203</td>\n",
              "      <td>0.200</td>\n",
              "      <td>0.200</td>\n",
              "      <td>0.202</td>\n",
              "      <td>0.203</td>\n",
              "      <td>0.200875</td>\n",
              "      <td>0.040352</td>\n",
              "      <td>0.200878</td>\n",
              "      <td>0.000001</td>\n",
              "      <td>0.001166</td>\n",
              "      <td>0.717206</td>\n",
              "      <td>1.794293</td>\n",
              "      <td>1.010562</td>\n",
              "      <td>0.040778</td>\n",
              "    </tr>\n",
              "    <tr>\n",
              "      <th>1</th>\n",
              "      <td>0.199</td>\n",
              "      <td>0.198</td>\n",
              "      <td>0.192</td>\n",
              "      <td>0.202</td>\n",
              "      <td>0.197</td>\n",
              "      <td>0.200</td>\n",
              "      <td>0.201</td>\n",
              "      <td>0.193</td>\n",
              "      <td>0.202</td>\n",
              "      <td>0.197750</td>\n",
              "      <td>0.039116</td>\n",
              "      <td>0.197779</td>\n",
              "      <td>0.000011</td>\n",
              "      <td>0.003382</td>\n",
              "      <td>-0.559869</td>\n",
              "      <td>1.976440</td>\n",
              "      <td>1.021342</td>\n",
              "      <td>0.039951</td>\n",
              "    </tr>\n",
              "    <tr>\n",
              "      <th>2</th>\n",
              "      <td>0.200</td>\n",
              "      <td>0.198</td>\n",
              "      <td>0.193</td>\n",
              "      <td>0.183</td>\n",
              "      <td>0.183</td>\n",
              "      <td>0.181</td>\n",
              "      <td>0.184</td>\n",
              "      <td>0.182</td>\n",
              "      <td>0.200</td>\n",
              "      <td>0.188000</td>\n",
              "      <td>0.035397</td>\n",
              "      <td>0.188140</td>\n",
              "      <td>0.000053</td>\n",
              "      <td>0.007246</td>\n",
              "      <td>0.650633</td>\n",
              "      <td>1.658231</td>\n",
              "      <td>1.063041</td>\n",
              "      <td>0.037628</td>\n",
              "    </tr>\n",
              "    <tr>\n",
              "      <th>3</th>\n",
              "      <td>0.200</td>\n",
              "      <td>0.192</td>\n",
              "      <td>0.193</td>\n",
              "      <td>0.202</td>\n",
              "      <td>0.182</td>\n",
              "      <td>0.183</td>\n",
              "      <td>0.183</td>\n",
              "      <td>0.185</td>\n",
              "      <td>0.202</td>\n",
              "      <td>0.190000</td>\n",
              "      <td>0.036156</td>\n",
              "      <td>0.190146</td>\n",
              "      <td>0.000056</td>\n",
              "      <td>0.007450</td>\n",
              "      <td>0.435344</td>\n",
              "      <td>1.637692</td>\n",
              "      <td>1.062342</td>\n",
              "      <td>0.038409</td>\n",
              "    </tr>\n",
              "    <tr>\n",
              "      <th>4</th>\n",
              "      <td>0.197</td>\n",
              "      <td>0.197</td>\n",
              "      <td>0.200</td>\n",
              "      <td>0.192</td>\n",
              "      <td>0.193</td>\n",
              "      <td>0.173</td>\n",
              "      <td>0.174</td>\n",
              "      <td>0.172</td>\n",
              "      <td>0.200</td>\n",
              "      <td>0.187250</td>\n",
              "      <td>0.035190</td>\n",
              "      <td>0.187590</td>\n",
              "      <td>0.000127</td>\n",
              "      <td>0.011289</td>\n",
              "      <td>-0.394714</td>\n",
              "      <td>1.325747</td>\n",
              "      <td>1.066155</td>\n",
              "      <td>0.037518</td>\n",
              "    </tr>\n",
              "    <tr>\n",
              "      <th>5</th>\n",
              "      <td>0.201</td>\n",
              "      <td>0.200</td>\n",
              "      <td>0.195</td>\n",
              "      <td>0.196</td>\n",
              "      <td>0.173</td>\n",
              "      <td>0.174</td>\n",
              "      <td>0.172</td>\n",
              "      <td>0.176</td>\n",
              "      <td>0.201</td>\n",
              "      <td>0.185875</td>\n",
              "      <td>0.034701</td>\n",
              "      <td>0.186282</td>\n",
              "      <td>0.000151</td>\n",
              "      <td>0.012303</td>\n",
              "      <td>0.042498</td>\n",
              "      <td>1.110438</td>\n",
              "      <td>1.079011</td>\n",
              "      <td>0.037443</td>\n",
              "    </tr>\n",
              "    <tr>\n",
              "      <th>6</th>\n",
              "      <td>0.200</td>\n",
              "      <td>0.198</td>\n",
              "      <td>0.192</td>\n",
              "      <td>0.162</td>\n",
              "      <td>0.165</td>\n",
              "      <td>0.165</td>\n",
              "      <td>0.162</td>\n",
              "      <td>0.163</td>\n",
              "      <td>0.200</td>\n",
              "      <td>0.175875</td>\n",
              "      <td>0.031197</td>\n",
              "      <td>0.176626</td>\n",
              "      <td>0.000265</td>\n",
              "      <td>0.016275</td>\n",
              "      <td>0.551438</td>\n",
              "      <td>1.381944</td>\n",
              "      <td>1.132334</td>\n",
              "      <td>0.035325</td>\n",
              "    </tr>\n",
              "    <tr>\n",
              "      <th>7</th>\n",
              "      <td>0.193</td>\n",
              "      <td>0.202</td>\n",
              "      <td>0.198</td>\n",
              "      <td>0.196</td>\n",
              "      <td>0.197</td>\n",
              "      <td>0.202</td>\n",
              "      <td>0.163</td>\n",
              "      <td>0.167</td>\n",
              "      <td>0.202</td>\n",
              "      <td>0.189750</td>\n",
              "      <td>0.036218</td>\n",
              "      <td>0.190310</td>\n",
              "      <td>0.000213</td>\n",
              "      <td>0.014592</td>\n",
              "      <td>-1.046670</td>\n",
              "      <td>2.299093</td>\n",
              "      <td>1.061425</td>\n",
              "      <td>0.038443</td>\n",
              "    </tr>\n",
              "    <tr>\n",
              "      <th>8</th>\n",
              "      <td>0.202</td>\n",
              "      <td>0.193</td>\n",
              "      <td>0.194</td>\n",
              "      <td>0.199</td>\n",
              "      <td>0.152</td>\n",
              "      <td>0.159</td>\n",
              "      <td>0.155</td>\n",
              "      <td>0.158</td>\n",
              "      <td>0.202</td>\n",
              "      <td>0.176500</td>\n",
              "      <td>0.031583</td>\n",
              "      <td>0.177716</td>\n",
              "      <td>0.000431</td>\n",
              "      <td>0.020755</td>\n",
              "      <td>0.020805</td>\n",
              "      <td>1.099408</td>\n",
              "      <td>1.136645</td>\n",
              "      <td>0.035899</td>\n",
              "    </tr>\n",
              "    <tr>\n",
              "      <th>9</th>\n",
              "      <td>0.200</td>\n",
              "      <td>0.202</td>\n",
              "      <td>0.153</td>\n",
              "      <td>0.154</td>\n",
              "      <td>0.157</td>\n",
              "      <td>0.158</td>\n",
              "      <td>0.157</td>\n",
              "      <td>0.155</td>\n",
              "      <td>0.202</td>\n",
              "      <td>0.167000</td>\n",
              "      <td>0.028277</td>\n",
              "      <td>0.168158</td>\n",
              "      <td>0.000388</td>\n",
              "      <td>0.019698</td>\n",
              "      <td>1.135297</td>\n",
              "      <td>2.325583</td>\n",
              "      <td>1.201254</td>\n",
              "      <td>0.033968</td>\n",
              "    </tr>\n",
              "    <tr>\n",
              "      <th>10</th>\n",
              "      <td>0.201</td>\n",
              "      <td>0.202</td>\n",
              "      <td>0.200</td>\n",
              "      <td>0.196</td>\n",
              "      <td>0.137</td>\n",
              "      <td>0.132</td>\n",
              "      <td>0.131</td>\n",
              "      <td>0.132</td>\n",
              "      <td>0.202</td>\n",
              "      <td>0.166375</td>\n",
              "      <td>0.028800</td>\n",
              "      <td>0.169705</td>\n",
              "      <td>0.001119</td>\n",
              "      <td>0.033455</td>\n",
              "      <td>-0.000369</td>\n",
              "      <td>1.017790</td>\n",
              "      <td>1.190299</td>\n",
              "      <td>0.034280</td>\n",
              "    </tr>\n",
              "    <tr>\n",
              "      <th>11</th>\n",
              "      <td>0.198</td>\n",
              "      <td>0.192</td>\n",
              "      <td>0.196</td>\n",
              "      <td>0.193</td>\n",
              "      <td>0.192</td>\n",
              "      <td>0.132</td>\n",
              "      <td>0.132</td>\n",
              "      <td>0.136</td>\n",
              "      <td>0.198</td>\n",
              "      <td>0.171375</td>\n",
              "      <td>0.030243</td>\n",
              "      <td>0.173904</td>\n",
              "      <td>0.000873</td>\n",
              "      <td>0.029551</td>\n",
              "      <td>-0.508120</td>\n",
              "      <td>1.282598</td>\n",
              "      <td>1.138559</td>\n",
              "      <td>0.034433</td>\n",
              "    </tr>\n",
              "  </tbody>\n",
              "</table>\n",
              "</div>"
            ],
            "text/plain": [
              "    point1  point2  point3  point4  ...  Skewness  Kurtosis  Crest_Factor  K_Factor\n",
              "0    0.200   0.200   0.200   0.202  ...  0.717206  1.794293      1.010562  0.040778\n",
              "1    0.199   0.198   0.192   0.202  ... -0.559869  1.976440      1.021342  0.039951\n",
              "2    0.200   0.198   0.193   0.183  ...  0.650633  1.658231      1.063041  0.037628\n",
              "3    0.200   0.192   0.193   0.202  ...  0.435344  1.637692      1.062342  0.038409\n",
              "4    0.197   0.197   0.200   0.192  ... -0.394714  1.325747      1.066155  0.037518\n",
              "5    0.201   0.200   0.195   0.196  ...  0.042498  1.110438      1.079011  0.037443\n",
              "6    0.200   0.198   0.192   0.162  ...  0.551438  1.381944      1.132334  0.035325\n",
              "7    0.193   0.202   0.198   0.196  ... -1.046670  2.299093      1.061425  0.038443\n",
              "8    0.202   0.193   0.194   0.199  ...  0.020805  1.099408      1.136645  0.035899\n",
              "9    0.200   0.202   0.153   0.154  ...  1.135297  2.325583      1.201254  0.033968\n",
              "10   0.201   0.202   0.200   0.196  ... -0.000369  1.017790      1.190299  0.034280\n",
              "11   0.198   0.192   0.196   0.193  ... -0.508120  1.282598      1.138559  0.034433\n",
              "\n",
              "[12 rows x 18 columns]"
            ]
          },
          "metadata": {
            "tags": []
          },
          "execution_count": 137
        }
      ]
    },
    {
      "cell_type": "code",
      "metadata": {
        "colab": {
          "base_uri": "https://localhost:8080/",
          "height": 402
        },
        "id": "B6SQxu1wkCHX",
        "outputId": "6a3d626e-979b-4b5b-e886-7e45e3de8cdb"
      },
      "source": [
        "#Feature that will be inputed to our ML algorithm\r\n",
        "input_features = input_file.drop(['point1','point2','point3','point4','point5','point6','point7','point8','Peak','Root_Mean_Square','Variance','Crest_Factor','K_Factor'],axis='columns') \r\n",
        "input_features\r\n",
        "#input_for_ann = [[0.200875,0.040352,0.001166,0.717206,1.794293],[0.197750,0.039116,0.003382,-0.559869,1.976440],[0.188000,0.035397,0.007246,0.650633,1.658231],[0.190000,0.036156,0.007450,0.435344,1.637692],[0.187250,0.035190,0.011289,-0.394714,1.325747],[0.185875,0.034701,0.012303,0.042498,1.110438],[0.175875,0.031197,0.016275,0.551438,1.381944],[0.189750,0.036218,0.014592,-1.04667,2.299093],[0.176500,0.031583,0.020755,0.020805,1.099408],[0.167000,0.028277,0.019698,1.135297,2.325583],[0.166375,0.028800,0.033455,-0.000369,1.017790],[0.171375,0.030243,0.029551,-0.508120,1.282598]]"
      ],
      "execution_count": 138,
      "outputs": [
        {
          "output_type": "execute_result",
          "data": {
            "text/html": [
              "<div>\n",
              "<style scoped>\n",
              "    .dataframe tbody tr th:only-of-type {\n",
              "        vertical-align: middle;\n",
              "    }\n",
              "\n",
              "    .dataframe tbody tr th {\n",
              "        vertical-align: top;\n",
              "    }\n",
              "\n",
              "    .dataframe thead th {\n",
              "        text-align: right;\n",
              "    }\n",
              "</style>\n",
              "<table border=\"1\" class=\"dataframe\">\n",
              "  <thead>\n",
              "    <tr style=\"text-align: right;\">\n",
              "      <th></th>\n",
              "      <th>Mean</th>\n",
              "      <th>Mean_Square</th>\n",
              "      <th>Standard_Deviation</th>\n",
              "      <th>Skewness</th>\n",
              "      <th>Kurtosis</th>\n",
              "    </tr>\n",
              "  </thead>\n",
              "  <tbody>\n",
              "    <tr>\n",
              "      <th>0</th>\n",
              "      <td>0.200875</td>\n",
              "      <td>0.040352</td>\n",
              "      <td>0.001166</td>\n",
              "      <td>0.717206</td>\n",
              "      <td>1.794293</td>\n",
              "    </tr>\n",
              "    <tr>\n",
              "      <th>1</th>\n",
              "      <td>0.197750</td>\n",
              "      <td>0.039116</td>\n",
              "      <td>0.003382</td>\n",
              "      <td>-0.559869</td>\n",
              "      <td>1.976440</td>\n",
              "    </tr>\n",
              "    <tr>\n",
              "      <th>2</th>\n",
              "      <td>0.188000</td>\n",
              "      <td>0.035397</td>\n",
              "      <td>0.007246</td>\n",
              "      <td>0.650633</td>\n",
              "      <td>1.658231</td>\n",
              "    </tr>\n",
              "    <tr>\n",
              "      <th>3</th>\n",
              "      <td>0.190000</td>\n",
              "      <td>0.036156</td>\n",
              "      <td>0.007450</td>\n",
              "      <td>0.435344</td>\n",
              "      <td>1.637692</td>\n",
              "    </tr>\n",
              "    <tr>\n",
              "      <th>4</th>\n",
              "      <td>0.187250</td>\n",
              "      <td>0.035190</td>\n",
              "      <td>0.011289</td>\n",
              "      <td>-0.394714</td>\n",
              "      <td>1.325747</td>\n",
              "    </tr>\n",
              "    <tr>\n",
              "      <th>5</th>\n",
              "      <td>0.185875</td>\n",
              "      <td>0.034701</td>\n",
              "      <td>0.012303</td>\n",
              "      <td>0.042498</td>\n",
              "      <td>1.110438</td>\n",
              "    </tr>\n",
              "    <tr>\n",
              "      <th>6</th>\n",
              "      <td>0.175875</td>\n",
              "      <td>0.031197</td>\n",
              "      <td>0.016275</td>\n",
              "      <td>0.551438</td>\n",
              "      <td>1.381944</td>\n",
              "    </tr>\n",
              "    <tr>\n",
              "      <th>7</th>\n",
              "      <td>0.189750</td>\n",
              "      <td>0.036218</td>\n",
              "      <td>0.014592</td>\n",
              "      <td>-1.046670</td>\n",
              "      <td>2.299093</td>\n",
              "    </tr>\n",
              "    <tr>\n",
              "      <th>8</th>\n",
              "      <td>0.176500</td>\n",
              "      <td>0.031583</td>\n",
              "      <td>0.020755</td>\n",
              "      <td>0.020805</td>\n",
              "      <td>1.099408</td>\n",
              "    </tr>\n",
              "    <tr>\n",
              "      <th>9</th>\n",
              "      <td>0.167000</td>\n",
              "      <td>0.028277</td>\n",
              "      <td>0.019698</td>\n",
              "      <td>1.135297</td>\n",
              "      <td>2.325583</td>\n",
              "    </tr>\n",
              "    <tr>\n",
              "      <th>10</th>\n",
              "      <td>0.166375</td>\n",
              "      <td>0.028800</td>\n",
              "      <td>0.033455</td>\n",
              "      <td>-0.000369</td>\n",
              "      <td>1.017790</td>\n",
              "    </tr>\n",
              "    <tr>\n",
              "      <th>11</th>\n",
              "      <td>0.171375</td>\n",
              "      <td>0.030243</td>\n",
              "      <td>0.029551</td>\n",
              "      <td>-0.508120</td>\n",
              "      <td>1.282598</td>\n",
              "    </tr>\n",
              "  </tbody>\n",
              "</table>\n",
              "</div>"
            ],
            "text/plain": [
              "        Mean  Mean_Square  Standard_Deviation  Skewness  Kurtosis\n",
              "0   0.200875     0.040352            0.001166  0.717206  1.794293\n",
              "1   0.197750     0.039116            0.003382 -0.559869  1.976440\n",
              "2   0.188000     0.035397            0.007246  0.650633  1.658231\n",
              "3   0.190000     0.036156            0.007450  0.435344  1.637692\n",
              "4   0.187250     0.035190            0.011289 -0.394714  1.325747\n",
              "5   0.185875     0.034701            0.012303  0.042498  1.110438\n",
              "6   0.175875     0.031197            0.016275  0.551438  1.381944\n",
              "7   0.189750     0.036218            0.014592 -1.046670  2.299093\n",
              "8   0.176500     0.031583            0.020755  0.020805  1.099408\n",
              "9   0.167000     0.028277            0.019698  1.135297  2.325583\n",
              "10  0.166375     0.028800            0.033455 -0.000369  1.017790\n",
              "11  0.171375     0.030243            0.029551 -0.508120  1.282598"
            ]
          },
          "metadata": {
            "tags": []
          },
          "execution_count": 138
        }
      ]
    },
    {
      "cell_type": "code",
      "metadata": {
        "colab": {
          "base_uri": "https://localhost:8080/"
        },
        "id": "JCteTvuGtKZ3",
        "outputId": "ebf7e5ae-586b-44f2-d9ac-b8d2796423d1"
      },
      "source": [
        "#output that will associate with our input features \r\n",
        "output_file = main_file.Status\r\n",
        "output_file"
      ],
      "execution_count": 139,
      "outputs": [
        {
          "output_type": "execute_result",
          "data": {
            "text/plain": [
              "0     0\n",
              "1     0\n",
              "2     1\n",
              "3     1\n",
              "4     2\n",
              "5     2\n",
              "6     3\n",
              "7     3\n",
              "8     4\n",
              "9     4\n",
              "10    5\n",
              "11    5\n",
              "Name: Status, dtype: int64"
            ]
          },
          "metadata": {
            "tags": []
          },
          "execution_count": 139
        }
      ]
    },
    {
      "cell_type": "code",
      "metadata": {
        "id": "n-wbfbmRtuQY"
      },
      "source": [
        "#we will test which model will be best model that can give max accuracy\r\n",
        "from sklearn.model_selection import GridSearchCV\r\n",
        "#importing possible models that could help in making good decisions whether \r\n",
        "from sklearn.svm import SVC \r\n",
        "from sklearn.ensemble import RandomForestClassifier \r\n",
        "from sklearn.linear_model import LogisticRegression,LinearRegression \r\n",
        "from sklearn.naive_bayes import MultinomialNB \r\n",
        "from sklearn.tree import DecisionTreeClassifier "
      ],
      "execution_count": 140,
      "outputs": []
    },
    {
      "cell_type": "code",
      "metadata": {
        "colab": {
          "base_uri": "https://localhost:8080/"
        },
        "id": "2v7o1Z3tAJHP",
        "outputId": "a8beaebd-43d1-4611-e6ae-b6df11ff1209"
      },
      "source": [
        "#Testing with SVM\r\n",
        "model = SVC(C=10,kernel='poly')\r\n",
        "model.fit(input_features,output_file)\r\n",
        "model.score(input_features,output_file)"
      ],
      "execution_count": 141,
      "outputs": [
        {
          "output_type": "execute_result",
          "data": {
            "text/plain": [
              "0.8333333333333334"
            ]
          },
          "metadata": {
            "tags": []
          },
          "execution_count": 141
        }
      ]
    },
    {
      "cell_type": "code",
      "metadata": {
        "colab": {
          "base_uri": "https://localhost:8080/"
        },
        "id": "IdaFb7tQM_rx",
        "outputId": "3d935444-2628-4b1a-fe93-24de179d903b"
      },
      "source": [
        "#predicted result from SVM\r\n",
        "model.predict(input_features)"
      ],
      "execution_count": 142,
      "outputs": [
        {
          "output_type": "execute_result",
          "data": {
            "text/plain": [
              "array([0, 0, 1, 1, 2, 2, 1, 3, 2, 4, 5, 5])"
            ]
          },
          "metadata": {
            "tags": []
          },
          "execution_count": 142
        }
      ]
    },
    {
      "cell_type": "code",
      "metadata": {
        "colab": {
          "base_uri": "https://localhost:8080/"
        },
        "id": "XlUSBCtXNUHL",
        "outputId": "d14add64-edb8-4ba4-e697-2c439a3d4492"
      },
      "source": [
        "#Testing with Logistic Regression\r\n",
        "model = LogisticRegression()\r\n",
        "model.fit(input_features,output_file)\r\n",
        "model.score(input_features,output_file)"
      ],
      "execution_count": 143,
      "outputs": [
        {
          "output_type": "execute_result",
          "data": {
            "text/plain": [
              "0.3333333333333333"
            ]
          },
          "metadata": {
            "tags": []
          },
          "execution_count": 143
        }
      ]
    },
    {
      "cell_type": "code",
      "metadata": {
        "colab": {
          "base_uri": "https://localhost:8080/"
        },
        "id": "X3Y2N4QFNiQl",
        "outputId": "42ef4518-875d-42eb-bf3e-3af079b9d831"
      },
      "source": [
        "#predicted result from Logistic Regresssion\r\n",
        "model.predict(input_features)"
      ],
      "execution_count": 144,
      "outputs": [
        {
          "output_type": "execute_result",
          "data": {
            "text/plain": [
              "array([4, 3, 4, 4, 5, 5, 1, 3, 5, 4, 5, 5])"
            ]
          },
          "metadata": {
            "tags": []
          },
          "execution_count": 144
        }
      ]
    },
    {
      "cell_type": "code",
      "metadata": {
        "colab": {
          "base_uri": "https://localhost:8080/"
        },
        "id": "I3buvXsvNxOW",
        "outputId": "6d447901-dfad-47ce-d035-7ee47e8a5a94"
      },
      "source": [
        "#Testing with Linear Regression\r\n",
        "model = LinearRegression()\r\n",
        "model.fit(input_features,output_file)\r\n",
        "model.score(input_features,output_file)"
      ],
      "execution_count": 145,
      "outputs": [
        {
          "output_type": "execute_result",
          "data": {
            "text/plain": [
              "0.9822405769560238"
            ]
          },
          "metadata": {
            "tags": []
          },
          "execution_count": 145
        }
      ]
    },
    {
      "cell_type": "code",
      "metadata": {
        "colab": {
          "base_uri": "https://localhost:8080/"
        },
        "id": "8UGDvxvCN47B",
        "outputId": "0a9dbc89-fead-45b5-fb70-ee0b47d57759"
      },
      "source": [
        "#predicted result from Linear Regression\r\n",
        "model.predict(input_features)"
      ],
      "execution_count": 146,
      "outputs": [
        {
          "output_type": "execute_result",
          "data": {
            "text/plain": [
              "array([-0.3341966 ,  0.09266362,  1.35554478,  1.3371897 ,  1.82912317,\n",
              "        2.05250671,  2.95983249,  3.00157145,  3.61654209,  3.87406716,\n",
              "        5.25176541,  4.96339002])"
            ]
          },
          "metadata": {
            "tags": []
          },
          "execution_count": 146
        }
      ]
    },
    {
      "cell_type": "code",
      "metadata": {
        "colab": {
          "base_uri": "https://localhost:8080/"
        },
        "id": "bijqiQ1DONrW",
        "outputId": "43543290-58c8-45bd-dea7-dd3ad1f2d84c"
      },
      "source": [
        "#Testing with Tree classifier\r\n",
        "model = DecisionTreeClassifier()\r\n",
        "model.fit(input_features,output_file)\r\n",
        "model.score(input_features,output_file)"
      ],
      "execution_count": 147,
      "outputs": [
        {
          "output_type": "execute_result",
          "data": {
            "text/plain": [
              "1.0"
            ]
          },
          "metadata": {
            "tags": []
          },
          "execution_count": 147
        }
      ]
    },
    {
      "cell_type": "code",
      "metadata": {
        "colab": {
          "base_uri": "https://localhost:8080/"
        },
        "id": "jwbmIT7BOUxY",
        "outputId": "336ac05e-0c61-47ff-f6b5-b8f3333ed3ce"
      },
      "source": [
        "#predicted result from Tree Classifier\r\n",
        "model.predict(input_features)"
      ],
      "execution_count": 148,
      "outputs": [
        {
          "output_type": "execute_result",
          "data": {
            "text/plain": [
              "array([0, 0, 1, 1, 2, 2, 3, 3, 4, 4, 5, 5])"
            ]
          },
          "metadata": {
            "tags": []
          },
          "execution_count": 148
        }
      ]
    },
    {
      "cell_type": "code",
      "metadata": {
        "colab": {
          "base_uri": "https://localhost:8080/"
        },
        "id": "TScn1jvvOfUe",
        "outputId": "15cc411a-6739-40f6-ae0c-cf482205b826"
      },
      "source": [
        "#Testing with Random Forest\r\n",
        "model = RandomForestClassifier()\r\n",
        "model.fit(input_features,output_file)\r\n",
        "model.score(input_features,output_file)"
      ],
      "execution_count": 149,
      "outputs": [
        {
          "output_type": "execute_result",
          "data": {
            "text/plain": [
              "1.0"
            ]
          },
          "metadata": {
            "tags": []
          },
          "execution_count": 149
        }
      ]
    },
    {
      "cell_type": "code",
      "metadata": {
        "colab": {
          "base_uri": "https://localhost:8080/"
        },
        "id": "WGGMsuq-Osp_",
        "outputId": "5715f75e-2eb8-46c8-9ad2-94d6c05c7edf"
      },
      "source": [
        "#predicted result from Random Forest\r\n",
        "model.predict(input_features)"
      ],
      "execution_count": 150,
      "outputs": [
        {
          "output_type": "execute_result",
          "data": {
            "text/plain": [
              "array([0, 0, 1, 1, 2, 2, 3, 3, 4, 4, 5, 5])"
            ]
          },
          "metadata": {
            "tags": []
          },
          "execution_count": 150
        }
      ]
    },
    {
      "cell_type": "code",
      "metadata": {
        "colab": {
          "base_uri": "https://localhost:8080/",
          "height": 402
        },
        "id": "s1o_q_zPO9NM",
        "outputId": "5a09c2df-baf6-4f5a-8b86-60d72f2a232d"
      },
      "source": [
        "#here onward we will work on ANN\r\n",
        "#Scaling our data so that we could find a better prediction\r\n",
        "from sklearn.preprocessing import MinMaxScaler\r\n",
        "scaler = MinMaxScaler()\r\n",
        "input_features['Mean'] = scaler.fit_transform(input_features[['Mean']])\r\n",
        "input_features['Mean_Square'] = scaler.fit_transform(input_features[['Mean_Square']])\r\n",
        "input_features['Standard_Deviation'] = scaler.fit_transform(input_features[['Standard_Deviation']])\r\n",
        "input_features['Skewness'] = scaler.fit_transform(input_features[['Skewness']])\r\n",
        "input_features['Kurtosis'] = scaler.fit_transform(input_features[['Kurtosis']])\r\n",
        "input_features"
      ],
      "execution_count": 151,
      "outputs": [
        {
          "output_type": "execute_result",
          "data": {
            "text/html": [
              "<div>\n",
              "<style scoped>\n",
              "    .dataframe tbody tr th:only-of-type {\n",
              "        vertical-align: middle;\n",
              "    }\n",
              "\n",
              "    .dataframe tbody tr th {\n",
              "        vertical-align: top;\n",
              "    }\n",
              "\n",
              "    .dataframe thead th {\n",
              "        text-align: right;\n",
              "    }\n",
              "</style>\n",
              "<table border=\"1\" class=\"dataframe\">\n",
              "  <thead>\n",
              "    <tr style=\"text-align: right;\">\n",
              "      <th></th>\n",
              "      <th>Mean</th>\n",
              "      <th>Mean_Square</th>\n",
              "      <th>Standard_Deviation</th>\n",
              "      <th>Skewness</th>\n",
              "      <th>Kurtosis</th>\n",
              "    </tr>\n",
              "  </thead>\n",
              "  <tbody>\n",
              "    <tr>\n",
              "      <th>0</th>\n",
              "      <td>1.000000</td>\n",
              "      <td>1.000000</td>\n",
              "      <td>0.000000</td>\n",
              "      <td>0.808388</td>\n",
              "      <td>0.593751</td>\n",
              "    </tr>\n",
              "    <tr>\n",
              "      <th>1</th>\n",
              "      <td>0.909420</td>\n",
              "      <td>0.897672</td>\n",
              "      <td>0.068631</td>\n",
              "      <td>0.223102</td>\n",
              "      <td>0.733029</td>\n",
              "    </tr>\n",
              "    <tr>\n",
              "      <th>2</th>\n",
              "      <td>0.626812</td>\n",
              "      <td>0.589601</td>\n",
              "      <td>0.188292</td>\n",
              "      <td>0.777878</td>\n",
              "      <td>0.489712</td>\n",
              "    </tr>\n",
              "    <tr>\n",
              "      <th>3</th>\n",
              "      <td>0.684783</td>\n",
              "      <td>0.652457</td>\n",
              "      <td>0.194614</td>\n",
              "      <td>0.679210</td>\n",
              "      <td>0.474006</td>\n",
              "    </tr>\n",
              "    <tr>\n",
              "      <th>4</th>\n",
              "      <td>0.605072</td>\n",
              "      <td>0.572499</td>\n",
              "      <td>0.313509</td>\n",
              "      <td>0.298793</td>\n",
              "      <td>0.235479</td>\n",
              "    </tr>\n",
              "    <tr>\n",
              "      <th>5</th>\n",
              "      <td>0.565217</td>\n",
              "      <td>0.531992</td>\n",
              "      <td>0.344913</td>\n",
              "      <td>0.499168</td>\n",
              "      <td>0.070843</td>\n",
              "    </tr>\n",
              "    <tr>\n",
              "      <th>6</th>\n",
              "      <td>0.275362</td>\n",
              "      <td>0.241809</td>\n",
              "      <td>0.467917</td>\n",
              "      <td>0.732416</td>\n",
              "      <td>0.278449</td>\n",
              "    </tr>\n",
              "    <tr>\n",
              "      <th>7</th>\n",
              "      <td>0.677536</td>\n",
              "      <td>0.657633</td>\n",
              "      <td>0.415821</td>\n",
              "      <td>0.000000</td>\n",
              "      <td>0.979745</td>\n",
              "    </tr>\n",
              "    <tr>\n",
              "      <th>8</th>\n",
              "      <td>0.293478</td>\n",
              "      <td>0.273786</td>\n",
              "      <td>0.606664</td>\n",
              "      <td>0.489226</td>\n",
              "      <td>0.062409</td>\n",
              "    </tr>\n",
              "    <tr>\n",
              "      <th>9</th>\n",
              "      <td>0.018116</td>\n",
              "      <td>0.000000</td>\n",
              "      <td>0.573935</td>\n",
              "      <td>1.000000</td>\n",
              "      <td>1.000000</td>\n",
              "    </tr>\n",
              "    <tr>\n",
              "      <th>10</th>\n",
              "      <td>0.000000</td>\n",
              "      <td>0.043302</td>\n",
              "      <td>1.000000</td>\n",
              "      <td>0.479522</td>\n",
              "      <td>0.000000</td>\n",
              "    </tr>\n",
              "    <tr>\n",
              "      <th>11</th>\n",
              "      <td>0.144928</td>\n",
              "      <td>0.162783</td>\n",
              "      <td>0.879079</td>\n",
              "      <td>0.246818</td>\n",
              "      <td>0.202485</td>\n",
              "    </tr>\n",
              "  </tbody>\n",
              "</table>\n",
              "</div>"
            ],
            "text/plain": [
              "        Mean  Mean_Square  Standard_Deviation  Skewness  Kurtosis\n",
              "0   1.000000     1.000000            0.000000  0.808388  0.593751\n",
              "1   0.909420     0.897672            0.068631  0.223102  0.733029\n",
              "2   0.626812     0.589601            0.188292  0.777878  0.489712\n",
              "3   0.684783     0.652457            0.194614  0.679210  0.474006\n",
              "4   0.605072     0.572499            0.313509  0.298793  0.235479\n",
              "5   0.565217     0.531992            0.344913  0.499168  0.070843\n",
              "6   0.275362     0.241809            0.467917  0.732416  0.278449\n",
              "7   0.677536     0.657633            0.415821  0.000000  0.979745\n",
              "8   0.293478     0.273786            0.606664  0.489226  0.062409\n",
              "9   0.018116     0.000000            0.573935  1.000000  1.000000\n",
              "10  0.000000     0.043302            1.000000  0.479522  0.000000\n",
              "11  0.144928     0.162783            0.879079  0.246818  0.202485"
            ]
          },
          "metadata": {
            "tags": []
          },
          "execution_count": 151
        }
      ]
    },
    {
      "cell_type": "code",
      "metadata": {
        "colab": {
          "base_uri": "https://localhost:8080/"
        },
        "id": "t9UI8c8bIyZR",
        "outputId": "95f20c01-38c0-4f8e-cc6e-a3a0a8f80b05"
      },
      "source": [
        "#making our data for ANN\r\n",
        "input_for_ann = [[col['Mean'],col['Mean_Square'],col['Standard_Deviation'],col['Skewness'],col['Kurtosis']] for index, col in input_features.iterrows()]\r\n",
        "length = len(input_for_ann)\r\n",
        "output_for_ann = [[0 for a in range(6)] for b in range(length)]\r\n",
        "for a in range(length):\r\n",
        "  output_for_ann[a][output_file[a]] = 1\r\n",
        "print(input_for_ann)\r\n",
        "print(output_for_ann)"
      ],
      "execution_count": 152,
      "outputs": [
        {
          "output_type": "stream",
          "text": [
            "[[1.0, 1.0, 0.0, 0.8083881868130361, 0.5937505539289727], [0.9094202898550732, 0.8976718667508612, 0.068630565336004, 0.2231018823727084, 0.7330291424115443], [0.6268115942028984, 0.5896005217337295, 0.1882919518701548, 0.7778776119631771, 0.48971172558501963], [0.6847826086956523, 0.6524570139025472, 0.1946143402825748, 0.6792103315187549, 0.4740062186691396], [0.6050724637681162, 0.5724992494901704, 0.3135088607841205, 0.2987926666343892, 0.23547854304606664], [0.5652173913043477, 0.5319924224386914, 0.34491264226092755, 0.4991678010916467, 0.07084297391909677], [0.27536231884058004, 0.24180909100319825, 0.46791664628471236, 0.732416341612343, 0.27844911628559843], [0.6775362318840576, 0.6576329437583457, 0.41582086652789624, 0.0, 0.9797451290416224], [0.2934782608695654, 0.27378598565232215, 0.6066639455487958, 0.48922621465896204, 0.062409210207191146], [0.018115942028986254, 0.0, 0.5739345103608281, 1.0, 1.0], [0.0, 0.043301829173610695, 0.9999999999999999, 0.47952197245324074, 0.0], [0.1449275362318856, 0.1627829939648655, 0.8790790528414986, 0.2468184772282887, 0.20248450251667394]]\n",
            "[[1, 0, 0, 0, 0, 0], [1, 0, 0, 0, 0, 0], [0, 1, 0, 0, 0, 0], [0, 1, 0, 0, 0, 0], [0, 0, 1, 0, 0, 0], [0, 0, 1, 0, 0, 0], [0, 0, 0, 1, 0, 0], [0, 0, 0, 1, 0, 0], [0, 0, 0, 0, 1, 0], [0, 0, 0, 0, 1, 0], [0, 0, 0, 0, 0, 1], [0, 0, 0, 0, 0, 1]]\n"
          ],
          "name": "stdout"
        }
      ]
    },
    {
      "cell_type": "code",
      "metadata": {
        "colab": {
          "base_uri": "https://localhost:8080/"
        },
        "id": "kWlXO769aWIV",
        "outputId": "60e1f863-c8dc-481d-9a07-88b606a3f2ed"
      },
      "source": [
        "#implementing our ANN\r\n",
        "from tensorflow import keras \r\n",
        "model = keras.Sequential()\r\n",
        "model.add(keras.Input(shape=(5,)))\r\n",
        "#model.add(keras.layers.Dense(15, activation='relu'))\r\n",
        "model.add(keras.layers.Dense(10, activation='relu'))\r\n",
        "model.add(keras.layers.Dense(6,activation='sigmoid'))\r\n",
        "model.compile(\r\n",
        "    optimizer='adam',\r\n",
        "    loss='mean_absolute_error',\r\n",
        "    metrics = ['accuracy']\r\n",
        ")\r\n",
        "model.fit(input_for_ann,output_for_ann, epochs=10)"
      ],
      "execution_count": 153,
      "outputs": [
        {
          "output_type": "stream",
          "text": [
            "Epoch 1/10\n",
            "1/1 [==============================] - 0s 1ms/step - loss: 0.4962 - accuracy: 0.2500\n",
            "Epoch 2/10\n",
            "1/1 [==============================] - 0s 1ms/step - loss: 0.4955 - accuracy: 0.2500\n",
            "Epoch 3/10\n",
            "1/1 [==============================] - 0s 962us/step - loss: 0.4948 - accuracy: 0.2500\n",
            "Epoch 4/10\n",
            "1/1 [==============================] - 0s 877us/step - loss: 0.4941 - accuracy: 0.2500\n",
            "Epoch 5/10\n",
            "1/1 [==============================] - 0s 1ms/step - loss: 0.4935 - accuracy: 0.2500\n",
            "Epoch 6/10\n",
            "1/1 [==============================] - 0s 992us/step - loss: 0.4928 - accuracy: 0.2500\n",
            "Epoch 7/10\n",
            "1/1 [==============================] - 0s 895us/step - loss: 0.4921 - accuracy: 0.2500\n",
            "Epoch 8/10\n",
            "1/1 [==============================] - 0s 929us/step - loss: 0.4914 - accuracy: 0.2500\n",
            "Epoch 9/10\n",
            "1/1 [==============================] - 0s 1ms/step - loss: 0.4907 - accuracy: 0.2500\n",
            "Epoch 10/10\n",
            "1/1 [==============================] - 0s 2ms/step - loss: 0.4901 - accuracy: 0.2500\n"
          ],
          "name": "stdout"
        },
        {
          "output_type": "execute_result",
          "data": {
            "text/plain": [
              "<tensorflow.python.keras.callbacks.History at 0x7f4c490d7f98>"
            ]
          },
          "metadata": {
            "tags": []
          },
          "execution_count": 153
        }
      ]
    },
    {
      "cell_type": "code",
      "metadata": {
        "colab": {
          "base_uri": "https://localhost:8080/"
        },
        "id": "Dwr76ElsacWl",
        "outputId": "266a6983-2c83-41e6-f3e9-c05c7dd6c4aa"
      },
      "source": [
        "#predicting from our ANN model\r\n",
        "predict_value = model.predict(input_for_ann)\r\n",
        "import numpy as np\r\n",
        "real_predicted_values = [np.argmax(i) for i in predict_value]\r\n",
        "real_predicted_values"
      ],
      "execution_count": 154,
      "outputs": [
        {
          "output_type": "stream",
          "text": [
            "WARNING:tensorflow:11 out of the last 11 calls to <function Model.make_predict_function.<locals>.predict_function at 0x7f4c539f09d8> triggered tf.function retracing. Tracing is expensive and the excessive number of tracings could be due to (1) creating @tf.function repeatedly in a loop, (2) passing tensors with different shapes, (3) passing Python objects instead of tensors. For (1), please define your @tf.function outside of the loop. For (2), @tf.function has experimental_relax_shapes=True option that relaxes argument shapes that can avoid unnecessary retracing. For (3), please refer to https://www.tensorflow.org/tutorials/customization/performance#python_or_tensor_args and https://www.tensorflow.org/api_docs/python/tf/function for  more details.\n"
          ],
          "name": "stdout"
        },
        {
          "output_type": "execute_result",
          "data": {
            "text/plain": [
              "[0, 0, 2, 0, 0, 3, 3, 1, 3, 1, 3, 1]"
            ]
          },
          "metadata": {
            "tags": []
          },
          "execution_count": 154
        }
      ]
    }
  ]
}